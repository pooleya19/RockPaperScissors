{
 "cells": [
  {
   "cell_type": "code",
   "execution_count": 36,
   "id": "f9cc96d4",
   "metadata": {},
   "outputs": [],
   "source": [
    "# conda install pytorch\n",
    "# conda install torchvision\n",
    "\n",
    "# import pandas as pd\n",
    "import numpy as np\n",
    "import matplotlib.pyplot as plt\n",
    "from sklearn import model_selection  \n",
    "from sklearn.metrics import confusion_matrix \n",
    "# import tqdm\n",
    "import torch\n",
    "import torch.nn as nn\n",
    "# import torchvision\n",
    "from torchvision import transforms\n",
    "# import torch.nn.functional as F\n",
    "from torch.utils.data import Dataset, DataLoader\n",
    "# import torchvision.models as models\n",
    "# import torchvision.transforms.functional as fn\n",
    "from torch.autograd import Variable\n",
    "# import cv2\n",
    "from sklearn.metrics import accuracy_score\n",
    "import sys\n",
    "# import os\n",
    "# import gc\n",
    "import pickle"
   ]
  },
  {
   "cell_type": "code",
   "execution_count": 37,
   "id": "2b01bed2-c449-40a0-aa74-03c88265ebfc",
   "metadata": {},
   "outputs": [
    {
     "name": "stdout",
     "output_type": "stream",
     "text": [
      "Loading data... Done!\n",
      "Size of BASE_DATA: 19170128\n",
      "Size of BASE_LABELS: 964\n"
     ]
    }
   ],
   "source": [
    "# LOAD BASE DATA (only once)\n",
    "print(\"Loading data... \",end='',flush=True)\n",
    "BASE_DATA = np.load(\"Data/data_150_gray.npy\")\n",
    "BASE_LABELS = np.load(\"Data/labels.npy\")\n",
    "print(\"Done!\")\n",
    "print(\"Size of BASE_DATA:\",sys.getsizeof(BASE_DATA))\n",
    "print(\"Size of BASE_LABELS:\",sys.getsizeof(BASE_LABELS))"
   ]
  },
  {
   "cell_type": "code",
   "execution_count": 38,
   "id": "311fd94f",
   "metadata": {},
   "outputs": [
    {
     "name": "stdout",
     "output_type": "stream",
     "text": [
      "datatrain.shape:\t torch.Size([681, 1, 150, 150])\n",
      "dataval.shape:\t\t torch.Size([114, 1, 150, 150])\n",
      "datatest.shape:\t\t torch.Size([57, 1, 150, 150])\n"
     ]
    }
   ],
   "source": [
    "figsize = 150\n",
    "batch_size = 64\n",
    "dataImages = BASE_DATA\n",
    "labels = BASE_LABELS\n",
    "\n",
    "datatrain, dataval, labeltrain, labelval = model_selection.train_test_split(dataImages, labels, test_size=0.2, shuffle=True, random_state=8)\n",
    "\n",
    "dataval, datatest, labelval, labeltest = model_selection.train_test_split(dataval, labelval, test_size=0.33, shuffle=True, random_state=6)\n",
    "\n",
    "datatrain= datatrain.reshape(datatrain.shape[0], 1, figsize, figsize)\n",
    "datatrain = torch.from_numpy(datatrain)\n",
    "labeltrain = labeltrain.astype(int)\n",
    "labeltrain = torch.from_numpy(labeltrain)\n",
    "\n",
    "dataval= dataval.reshape(dataval.shape[0], 1, figsize, figsize)\n",
    "dataval = torch.from_numpy(dataval)\n",
    "labelval = labelval.astype(int)\n",
    "labelval = torch.from_numpy(labelval)\n",
    "\n",
    "datatest= datatest.reshape(datatest.shape[0], 1, figsize, figsize)\n",
    "datatest = torch.from_numpy(datatest)\n",
    "labeltest = labeltest.astype(int)\n",
    "labeltest = torch.from_numpy(labeltest)\n",
    "\n",
    "print(\"datatrain.shape:\\t\",datatrain.shape)\n",
    "print(\"dataval.shape:\\t\\t\",dataval.shape)\n",
    "print(\"datatest.shape:\\t\\t\",datatest.shape)"
   ]
  },
  {
   "cell_type": "code",
   "execution_count": 39,
   "id": "658549e1",
   "metadata": {},
   "outputs": [],
   "source": [
    "class MyData(Dataset):\n",
    "        def __init__(self, X, t, transform=None):\n",
    "            self.X = X.float()\n",
    "            self.t = t.long()\n",
    "            self.transform = transform\n",
    "\n",
    "        def __len__(self):\n",
    "            return len(self.X)\n",
    "\n",
    "        def __getitem__(self, idx):\n",
    "            X = self.X[idx]\n",
    "            t = self.t[idx]\n",
    "            if self.transform:\n",
    "                X = self.transform(X)\n",
    "            return X, t\n",
    "\n",
    "train_aug = transforms.Compose([\n",
    "        # transforms.ToPILImage(),\n",
    "        # transforms.ColorJitter(brightness=.05, contrast=.05),\n",
    "        # transforms.RandomRotation(degrees=(-180,180)),\n",
    "        # transforms.RandomResizedCrop(figsize),\n",
    "        # transforms.RandomVerticalFlip(0.2),\n",
    "        # transforms.RandomHorizontalFlip(0.4),\n",
    "        transforms.RandomPerspective(distortion_scale=0.2),\n",
    "        transforms.GaussianBlur(kernel_size=(3,3)),\n",
    "        # transforms.ToTensor(),\n",
    "        # transforms.Normalize(mean=[0.485, 0.456, 0.406],std=[0.229, 0.224, 0.225])\n",
    "    ])\n",
    "val_aug = transforms.Compose([\n",
    "        # transforms.ToPILImage(),\n",
    "        transforms.GaussianBlur(kernel_size=(3,3)),\n",
    "        # transforms.ToTensor(),\n",
    "        # transforms.Normalize(mean=[0.485, 0.456, 0.406],std=[0.229, 0.224, 0.225])\n",
    "    ])\n",
    "test_aug = transforms.Compose([\n",
    "        # transforms.ToPILImage(),\n",
    "        transforms.GaussianBlur(kernel_size=(3,3)),\n",
    "        # transforms.ToTensor(),\n",
    "        # transforms.Normalize(mean=[0.485, 0.456, 0.406],std=[0.229, 0.224, 0.225])\n",
    "    ])\n",
    "    \n",
    "    \n",
    "train_data = MyData(datatrain,labeltrain,transform=train_aug)\n",
    "# train_data = MyData(datatrain,labeltrain)\n",
    "\n",
    "val_data = MyData(dataval,labelval,transform=val_aug)\n",
    "# val_data = MyData(dataval,labelval)\n",
    "\n",
    "test_data = MyData(datatest,labeltest,transform=test_aug)\n",
    "# test_data = MyData(datatest,labeltest)\n",
    "\n",
    "train_load = DataLoader(dataset=train_data,batch_size=batch_size,shuffle=False)\n",
    "val_load = DataLoader(dataset=val_data,batch_size=batch_size,shuffle=False)\n",
    "test_load = DataLoader(dataset=test_data,batch_size = batch_size, shuffle=False)"
   ]
  },
  {
   "cell_type": "code",
   "execution_count": 40,
   "id": "7a4a5fd0",
   "metadata": {},
   "outputs": [],
   "source": [
    "class CNN(nn.Module):\n",
    "        def __init__(self):\n",
    "            super(CNN,self).__init__()\n",
    "\n",
    "            # CNN Block = Conv Layer, Batch Norm, MaxPool layer, ReLU activation\n",
    "            self.cnn_layers = nn.Sequential(\n",
    "                # First CNN block\n",
    "                nn.Conv2d(in_channels=1, out_channels=64, kernel_size=2, stride=1, padding=0),\n",
    "                nn.BatchNorm2d(64),\n",
    "                nn.ReLU(),\n",
    "                nn.MaxPool2d(kernel_size=2,stride=2),\n",
    "                \n",
    "                # Second CNN block\n",
    "                nn.Conv2d(in_channels=64, out_channels=64, kernel_size=2, stride=1, padding=0),\n",
    "                nn.BatchNorm2d(64),\n",
    "                nn.ReLU(),\n",
    "                nn.MaxPool2d(kernel_size=2,stride=2),\n",
    "                \n",
    "                # Third CNN block\n",
    "                nn.Conv2d(in_channels=64, out_channels=128, kernel_size=2, stride=1, padding=0),\n",
    "                nn.BatchNorm2d(128),\n",
    "                nn.ReLU(),\n",
    "                nn.MaxPool2d(kernel_size=2,stride=2),\n",
    "                \n",
    "                # Fourth CNN block\n",
    "                nn.Conv2d(in_channels=128, out_channels=128, kernel_size=2, stride=1, padding=0),\n",
    "                nn.BatchNorm2d(128),\n",
    "                nn.ReLU(),\n",
    "                nn.MaxPool2d(kernel_size=2,stride=2),\n",
    "                \n",
    "                # Fifth CNN block\n",
    "                nn.Conv2d(in_channels=128, out_channels=128, kernel_size=2, stride=1, padding=0),\n",
    "                nn.BatchNorm2d(128),\n",
    "                nn.ReLU(),\n",
    "                nn.MaxPool2d(kernel_size=2,stride=2),\n",
    "            )\n",
    "\n",
    "            # Linear layers\n",
    "            self.linear_layers = nn.Sequential(\n",
    "                nn.Linear(in_features=1152, out_features=512),\n",
    "                nn.Linear(in_features=512, out_features=256),\n",
    "                nn.BatchNorm1d(256),\n",
    "                nn.ReLU(),\n",
    "                nn.Dropout2d(0.2),\n",
    "                nn.Linear(in_features=256,out_features=3),\n",
    "                nn.LogSoftmax(dim=1)\n",
    "            )\n",
    "        \n",
    "        def forward(self, x):\n",
    "            x = self.cnn_layers(x)\n",
    "            x = x.view(x.size(0), -1)\n",
    "            x = self.linear_layers(x)\n",
    "            return x"
   ]
  },
  {
   "cell_type": "code",
   "execution_count": 41,
   "id": "3be80266",
   "metadata": {},
   "outputs": [
    {
     "name": "stdout",
     "output_type": "stream",
     "text": [
      "CNN(\n",
      "  (cnn_layers): Sequential(\n",
      "    (0): Conv2d(1, 64, kernel_size=(2, 2), stride=(1, 1))\n",
      "    (1): BatchNorm2d(64, eps=1e-05, momentum=0.1, affine=True, track_running_stats=True)\n",
      "    (2): ReLU()\n",
      "    (3): MaxPool2d(kernel_size=2, stride=2, padding=0, dilation=1, ceil_mode=False)\n",
      "    (4): Conv2d(64, 64, kernel_size=(2, 2), stride=(1, 1))\n",
      "    (5): BatchNorm2d(64, eps=1e-05, momentum=0.1, affine=True, track_running_stats=True)\n",
      "    (6): ReLU()\n",
      "    (7): MaxPool2d(kernel_size=2, stride=2, padding=0, dilation=1, ceil_mode=False)\n",
      "    (8): Conv2d(64, 128, kernel_size=(2, 2), stride=(1, 1))\n",
      "    (9): BatchNorm2d(128, eps=1e-05, momentum=0.1, affine=True, track_running_stats=True)\n",
      "    (10): ReLU()\n",
      "    (11): MaxPool2d(kernel_size=2, stride=2, padding=0, dilation=1, ceil_mode=False)\n",
      "    (12): Conv2d(128, 128, kernel_size=(2, 2), stride=(1, 1))\n",
      "    (13): BatchNorm2d(128, eps=1e-05, momentum=0.1, affine=True, track_running_stats=True)\n",
      "    (14): ReLU()\n",
      "    (15): MaxPool2d(kernel_size=2, stride=2, padding=0, dilation=1, ceil_mode=False)\n",
      "    (16): Conv2d(128, 128, kernel_size=(2, 2), stride=(1, 1))\n",
      "    (17): BatchNorm2d(128, eps=1e-05, momentum=0.1, affine=True, track_running_stats=True)\n",
      "    (18): ReLU()\n",
      "    (19): MaxPool2d(kernel_size=2, stride=2, padding=0, dilation=1, ceil_mode=False)\n",
      "  )\n",
      "  (linear_layers): Sequential(\n",
      "    (0): Linear(in_features=1152, out_features=512, bias=True)\n",
      "    (1): Linear(in_features=512, out_features=256, bias=True)\n",
      "    (2): BatchNorm1d(256, eps=1e-05, momentum=0.1, affine=True, track_running_stats=True)\n",
      "    (3): ReLU()\n",
      "    (4): Dropout2d(p=0.2, inplace=False)\n",
      "    (5): Linear(in_features=256, out_features=3, bias=True)\n",
      "    (6): LogSoftmax(dim=1)\n",
      "  )\n",
      ")\n"
     ]
    }
   ],
   "source": [
    "model = CNN()\n",
    "\n",
    "train_losses = []\n",
    "val_losses = []\n",
    "\n",
    "optimizer = torch.optim.Adam(model.parameters(), lr = 0.001)\n",
    "\n",
    "criterion = nn.NLLLoss()\n",
    "\n",
    "if torch.cuda.is_available():\n",
    "    model = model.cuda()\n",
    "    criterion = criterion.cuda()\n",
    "\n",
    "# device = torch.device(\"cuda\" if torch.cuda.is_available() else \"cpu\")\n",
    "# model = nn.DataParallel(model)\n",
    "# model.to(device)\n",
    "\n",
    "print(model)\n",
    "\n",
    "# print(\"Size of model:\",sys.getsizeof(model)) # = 48\n",
    "# print(\"Size of optimizer:\",sys.getsizeof(optimizer)) # = 48\n",
    "# print(\"Size of criterion:\",sys.getsizeof(criterion)) # = 48"
   ]
  },
  {
   "cell_type": "code",
   "execution_count": 42,
   "id": "92ee37b0",
   "metadata": {},
   "outputs": [],
   "source": [
    "def train(epoch, validate):\n",
    "    for batches, (images, labels) in enumerate(train_load):\n",
    "        model.train()\n",
    "        tr_loss = 0\n",
    "    \n",
    "        traindata, trainlabel = Variable(images), Variable(labels)\n",
    "        #\n",
    "    \n",
    "        if torch.cuda.is_available():\n",
    "            traindata = traindata.cuda()\n",
    "            trainlabel = trainlabel.cuda()\n",
    "            #valdata = valdata.cuda()\n",
    "            #vallabel = vallabel.cuda()\n",
    "        \n",
    "        optimizer.zero_grad()\n",
    "    \n",
    "        traindata = traindata.float()\n",
    "        #valdata = valdata.float()\n",
    "\n",
    "        # print(traindata.shape)\n",
    "    \n",
    "        output_train = model(traindata)\n",
    "        #output_val = model(valdata)\n",
    "    \n",
    "        loss_train = criterion(output_train, trainlabel)\n",
    "        #loss_val = criterion(output_val, vallabel)\n",
    "    \n",
    "        \n",
    "        #val_losses.append(loss_val)\n",
    "    \n",
    "        loss_train.backward()\n",
    "        optimizer.step()\n",
    "    if validate:\n",
    "        for batches, (images, labels) in enumerate(val_load):\n",
    "                valdata, vallabel = Variable(images), Variable(labels)\n",
    "                if torch.cuda.is_available():\n",
    "                    #traindata = traindata.cuda()\n",
    "                    #trainlabel = trainlabel.cuda()\n",
    "                    valdata = valdata.cuda()\n",
    "                    vallabel = vallabel.cuda()\n",
    "                valdata = valdata.float()\n",
    "                output_val = model(valdata)\n",
    "                loss_val = criterion(output_val, vallabel)\n",
    "        train_losses.append(loss_train.item())\n",
    "        val_losses.append(loss_val.item())"
   ]
  },
  {
   "cell_type": "code",
   "execution_count": 43,
   "id": "67fe93b7-27a9-4474-96c4-418b03941b5f",
   "metadata": {},
   "outputs": [],
   "source": [
    "# print(\"\\tmax_memory_allocated:\\t\",torch.cuda.max_memory_allocated(), sep='')\n",
    "# print(\"\\tmemory_allocated:\\t\",torch.cuda.memory_allocated(), sep='')\n",
    "# print(\"\\tmax_memory_reserved:\\t\",torch.cuda.max_memory_reserved(), sep='')\n",
    "# print(\"\\tmemory_reserved:\\t\",torch.cuda.memory_reserved(), sep='')\n",
    "\n",
    "# torch.cuda.empty_cache()\n",
    "\n",
    "# print(\"\\tmax_memory_allocated:\\t\",torch.cuda.max_memory_allocated(), sep='')\n",
    "# print(\"\\tmemory_allocated:\\t\",torch.cuda.memory_allocated(), sep='')\n",
    "# print(\"\\tmax_memory_reserved:\\t\",torch.cuda.max_memory_reserved(), sep='')\n",
    "# print(\"\\tmemory_reserved:\\t\",torch.cuda.memory_reserved(), sep='')"
   ]
  },
  {
   "cell_type": "code",
   "execution_count": 52,
   "id": "a17c21de-2efd-4d6e-a1be-1b6ad7b564b9",
   "metadata": {},
   "outputs": [],
   "source": [
    "# testMode should be 1 of the following: \"train\", \"val\", \"test\"\n",
    "def calculateAccuracy(testModel, testMode, printOutput=False):\n",
    "    testModel.eval()\n",
    "    tempLoader = None\n",
    "    tempLabels = None\n",
    "    if testMode == \"train\":\n",
    "        tempLoader = train_load\n",
    "        tempLabels = labeltrain\n",
    "    elif testMode == \"val\":\n",
    "        tempLoader = val_load\n",
    "        tempLabels = labelval\n",
    "    elif testMode == \"test\":\n",
    "        tempLoader = test_load\n",
    "        tempLabels = labeltest\n",
    "    else:\n",
    "        print(\"Invalid testMode given (\", str(testMode), \")\", sep='')\n",
    "        return -1\n",
    "        \n",
    "    output = np.empty([0, 3])\n",
    "    with torch.no_grad():\n",
    "        for batches, (images, labels) in enumerate(tempLoader):\n",
    "            # output_tensor = testModel(images.cuda().float())\n",
    "            output_tensor = testModel(images)\n",
    "            output = np.vstack((output, torch.as_tensor(output_tensor).cpu().numpy()))\n",
    "    \n",
    "    predictions = np.argmax(output, axis = 1)\n",
    "\n",
    "    accuracy = accuracy_score(tempLabels, predictions)\n",
    "\n",
    "    if printOutput:\n",
    "        print(\"testMode:\", testMode)\n",
    "        print(\"\\tAccuracy Score:\", round(accuracy,4))\n",
    "        print(\"\\tConfusion Matrix:\")\n",
    "        print(confusion_matrix(tempLabels, predictions))\n",
    "        print()\n",
    "    \n",
    "    testModel.train()\n",
    "    return accuracy"
   ]
  },
  {
   "cell_type": "code",
   "execution_count": 45,
   "id": "934b01cf",
   "metadata": {},
   "outputs": [
    {
     "name": "stdout",
     "output_type": "stream",
     "text": [
      "Epoch: 0\tLoss: 3.691e-01\tMemory Allocated: 0.e+00\n",
      "Epoch: 4\tLoss: 2.058e-02\tMemory Allocated: 0.e+00\n",
      "Epoch: 8\tLoss: 1.331e-02\tMemory Allocated: 0.e+00\n",
      "Epoch: 12\tLoss: 9.408e-02\tMemory Allocated: 0.e+00\n",
      "Epoch: 16\tLoss: 5.998e-03\tMemory Allocated: 0.e+00\n"
     ]
    }
   ],
   "source": [
    "retrainModel = True\n",
    "\n",
    "if retrainModel:\n",
    "    # Train model\n",
    "    n_epochs = 20\n",
    "    mod_epoch = 4\n",
    "\n",
    "    for epoch in range(n_epochs):\n",
    "        train(epoch, epoch % mod_epoch == 0)\n",
    "\n",
    "        loss_train = train_losses[-1] # Get last element in list\n",
    "\n",
    "        msg = \"Epoch: \" + str(epoch)\n",
    "        msg += \"\\tLoss: \" + np.format_float_scientific(loss_train, precision=3)\n",
    "        msg += \"\\tMemory Allocated: \" + np.format_float_scientific(torch.cuda.memory_allocated(), precision=3)\n",
    "\n",
    "        if False:\n",
    "            trainAccuracy = calculateAccuracy(model, \"train\")\n",
    "            valAccuracy = calculateAccuracy(model, \"val\")\n",
    "            testAccuracy = calculateAccuracy(model, \"test\")\n",
    "\n",
    "            msg += \"\\tAccuracy: Train: \" + np.format_float_scientific(trainAccuracy, precision=3)\n",
    "            msg += \"\\tVal: \" + np.format_float_scientific(valAccuracy, precision=3)\n",
    "            msg += \"\\tTest: \" + np.format_float_scientific(testAccuracy, precision=3)\n",
    "\n",
    "        if epoch % mod_epoch == 0:\n",
    "            print(msg)\n",
    "else:\n",
    "    # Load model\n",
    "    \n",
    "    # LOAD MODEL PARAMETERS (only once)\n",
    "    import pickle\n",
    "\n",
    "    filePath = \"Params.pkl\"\n",
    "    print(\"Loading model... \", end='', flush=True)\n",
    "    with open(filePath, \"rb\") as file:\n",
    "        model_parameters = pickle.load(file)\n",
    "    print(\"Done!\")\n",
    "    \n",
    "    model = CNN()\n",
    "    model.load_state_dict(model_parameters)\n",
    "    \n",
    "    # Define test model\n",
    "    model.cuda()\n",
    "    model.eval()"
   ]
  },
  {
   "cell_type": "code",
   "execution_count": 46,
   "id": "a980c282",
   "metadata": {},
   "outputs": [
    {
     "data": {
      "image/png": "[encoded data removed]",
      "text/plain": [
       "<Figure size 640x480 with 1 Axes>"
      ]
     },
     "metadata": {},
     "output_type": "display_data"
    }
   ],
   "source": [
    "plt.plot(np.asarray(train_losses), label = 'Training Loss', marker = 'o')\n",
    "plt.plot(np.asarray(val_losses), label = 'Validation Loss', marker = '.')\n",
    "plt.legend()\n",
    "plt.xlabel('Epochs')\n",
    "plt.ylabel('Loss Function')\n",
    "plt.show()"
   ]
  },
  {
   "cell_type": "code",
   "execution_count": 60,
   "id": "85ec57be-4c87-401a-a5ca-652517bc261c",
   "metadata": {},
   "outputs": [
    {
     "name": "stderr",
     "output_type": "stream",
     "text": [
      "c:\\Users\\poole\\anaconda3\\Lib\\site-packages\\torch\\nn\\functional.py:1347: UserWarning: dropout2d: Received a 2-D input to dropout2d, which is deprecated and will result in an error in a future release. To retain the behavior and silence this warning, please use dropout instead. Note that dropout2d exists to provide channel-wise dropout on inputs with 2 spatial dimensions, a channel dimension, and an optional batch dimension (i.e. 3D or 4D inputs).\n",
      "  warnings.warn(warn_msg)\n"
     ]
    },
    {
     "name": "stdout",
     "output_type": "stream",
     "text": [
      "testMode: train\n",
      "\tAccuracy Score: 0.9809\n",
      "\tConfusion Matrix:\n",
      "[[170   7   5]\n",
      " [  0 215   1]\n",
      " [  0   0 283]]\n",
      "\n"
     ]
    },
    {
     "name": "stderr",
     "output_type": "stream",
     "text": [
      "c:\\Users\\poole\\anaconda3\\Lib\\site-packages\\torch\\nn\\functional.py:1347: UserWarning: dropout2d: Received a 2-D input to dropout2d, which is deprecated and will result in an error in a future release. To retain the behavior and silence this warning, please use dropout instead. Note that dropout2d exists to provide channel-wise dropout on inputs with 2 spatial dimensions, a channel dimension, and an optional batch dimension (i.e. 3D or 4D inputs).\n",
      "  warnings.warn(warn_msg)\n"
     ]
    },
    {
     "name": "stdout",
     "output_type": "stream",
     "text": [
      "testMode: val\n",
      "\tAccuracy Score: 0.9737\n",
      "\tConfusion Matrix:\n",
      "[[38  1  1]\n",
      " [ 0 40  1]\n",
      " [ 0  0 33]]\n",
      "\n"
     ]
    },
    {
     "name": "stderr",
     "output_type": "stream",
     "text": [
      "c:\\Users\\poole\\anaconda3\\Lib\\site-packages\\torch\\nn\\functional.py:1347: UserWarning: dropout2d: Received a 2-D input to dropout2d, which is deprecated and will result in an error in a future release. To retain the behavior and silence this warning, please use dropout instead. Note that dropout2d exists to provide channel-wise dropout on inputs with 2 spatial dimensions, a channel dimension, and an optional batch dimension (i.e. 3D or 4D inputs).\n",
      "  warnings.warn(warn_msg)\n",
      "c:\\Users\\poole\\anaconda3\\Lib\\site-packages\\torch\\nn\\functional.py:1347: UserWarning: dropout2d: Received a 2-D input to dropout2d, which is deprecated and will result in an error in a future release. To retain the behavior and silence this warning, please use dropout instead. Note that dropout2d exists to provide channel-wise dropout on inputs with 2 spatial dimensions, a channel dimension, and an optional batch dimension (i.e. 3D or 4D inputs).\n",
      "  warnings.warn(warn_msg)\n",
      "c:\\Users\\poole\\anaconda3\\Lib\\site-packages\\torch\\nn\\functional.py:1347: UserWarning: dropout2d: Received a 2-D input to dropout2d, which is deprecated and will result in an error in a future release. To retain the behavior and silence this warning, please use dropout instead. Note that dropout2d exists to provide channel-wise dropout on inputs with 2 spatial dimensions, a channel dimension, and an optional batch dimension (i.e. 3D or 4D inputs).\n",
      "  warnings.warn(warn_msg)\n",
      "c:\\Users\\poole\\anaconda3\\Lib\\site-packages\\torch\\nn\\functional.py:1347: UserWarning: dropout2d: Received a 2-D input to dropout2d, which is deprecated and will result in an error in a future release. To retain the behavior and silence this warning, please use dropout instead. Note that dropout2d exists to provide channel-wise dropout on inputs with 2 spatial dimensions, a channel dimension, and an optional batch dimension (i.e. 3D or 4D inputs).\n",
      "  warnings.warn(warn_msg)\n",
      "c:\\Users\\poole\\anaconda3\\Lib\\site-packages\\torch\\nn\\functional.py:1347: UserWarning: dropout2d: Received a 2-D input to dropout2d, which is deprecated and will result in an error in a future release. To retain the behavior and silence this warning, please use dropout instead. Note that dropout2d exists to provide channel-wise dropout on inputs with 2 spatial dimensions, a channel dimension, and an optional batch dimension (i.e. 3D or 4D inputs).\n",
      "  warnings.warn(warn_msg)\n",
      "c:\\Users\\poole\\anaconda3\\Lib\\site-packages\\torch\\nn\\functional.py:1347: UserWarning: dropout2d: Received a 2-D input to dropout2d, which is deprecated and will result in an error in a future release. To retain the behavior and silence this warning, please use dropout instead. Note that dropout2d exists to provide channel-wise dropout on inputs with 2 spatial dimensions, a channel dimension, and an optional batch dimension (i.e. 3D or 4D inputs).\n",
      "  warnings.warn(warn_msg)\n",
      "c:\\Users\\poole\\anaconda3\\Lib\\site-packages\\torch\\nn\\functional.py:1347: UserWarning: dropout2d: Received a 2-D input to dropout2d, which is deprecated and will result in an error in a future release. To retain the behavior and silence this warning, please use dropout instead. Note that dropout2d exists to provide channel-wise dropout on inputs with 2 spatial dimensions, a channel dimension, and an optional batch dimension (i.e. 3D or 4D inputs).\n",
      "  warnings.warn(warn_msg)\n",
      "c:\\Users\\poole\\anaconda3\\Lib\\site-packages\\torch\\nn\\functional.py:1347: UserWarning: dropout2d: Received a 2-D input to dropout2d, which is deprecated and will result in an error in a future release. To retain the behavior and silence this warning, please use dropout instead. Note that dropout2d exists to provide channel-wise dropout on inputs with 2 spatial dimensions, a channel dimension, and an optional batch dimension (i.e. 3D or 4D inputs).\n",
      "  warnings.warn(warn_msg)\n",
      "c:\\Users\\poole\\anaconda3\\Lib\\site-packages\\torch\\nn\\functional.py:1347: UserWarning: dropout2d: Received a 2-D input to dropout2d, which is deprecated and will result in an error in a future release. To retain the behavior and silence this warning, please use dropout instead. Note that dropout2d exists to provide channel-wise dropout on inputs with 2 spatial dimensions, a channel dimension, and an optional batch dimension (i.e. 3D or 4D inputs).\n",
      "  warnings.warn(warn_msg)\n"
     ]
    },
    {
     "name": "stdout",
     "output_type": "stream",
     "text": [
      "0.9631578947368421\n"
     ]
    },
    {
     "name": "stderr",
     "output_type": "stream",
     "text": [
      "c:\\Users\\poole\\anaconda3\\Lib\\site-packages\\torch\\nn\\functional.py:1347: UserWarning: dropout2d: Received a 2-D input to dropout2d, which is deprecated and will result in an error in a future release. To retain the behavior and silence this warning, please use dropout instead. Note that dropout2d exists to provide channel-wise dropout on inputs with 2 spatial dimensions, a channel dimension, and an optional batch dimension (i.e. 3D or 4D inputs).\n",
      "  warnings.warn(warn_msg)\n"
     ]
    }
   ],
   "source": [
    "calculateAccuracy(model, \"train\", True)\n",
    "calculateAccuracy(model, \"val\", True)\n",
    "\n",
    "accuracies = [calculateAccuracy(model, \"test\", False) for i in range(10)]\n",
    "print(np.mean(accuracies))"
   ]
  },
  {
   "cell_type": "code",
   "execution_count": 56,
   "id": "9757b877-6a6f-4af2-a216-f0fe037d02d8",
   "metadata": {
    "tags": []
   },
   "outputs": [
    {
     "data": {
      "image/png": "[encoded data removed]",
      "text/plain": [
       "<Figure size 1000x800 with 2 Axes>"
      ]
     },
     "metadata": {},
     "output_type": "display_data"
    }
   ],
   "source": [
    "# Generate nice heatmap\n",
    "model.eval()\n",
    "\n",
    "output = np.empty([0, 3])\n",
    "with torch.no_grad():\n",
    "    for batches, (images, labels) in enumerate(test_load):\n",
    "        # output_tensor = model(images.cuda().float())\n",
    "        output_tensor = model(images)\n",
    "        output = np.vstack((output, torch.as_tensor(output_tensor).cpu().numpy()))\n",
    "\n",
    "predictions = np.argmax(output, axis = 1)\n",
    "\n",
    "accuracy = accuracy_score(labeltest, predictions)\n",
    "\n",
    "conf = confusion_matrix(labeltest, predictions)\n",
    "\n",
    "plt.figure(figsize=(10,8))\n",
    "plt.imshow(conf, cmap='viridis')\n",
    "for i in range(0,3):\n",
    "    for j in range(0,3):\n",
    "        plt.text(i, j, str(round(conf[i,j])), horizontalalignment='center', verticalalignment='center', fontsize=15, color='white')\n",
    "plt.colorbar()\n",
    "# plt.savefig(\"Figures/TestConfusionMatrix.pdf\", bbox_inches='tight')\n",
    "plt.show()"
   ]
  },
  {
   "cell_type": "code",
   "execution_count": 57,
   "id": "5d7c74cd",
   "metadata": {},
   "outputs": [],
   "source": [
    "# SAVE MODEL .pkl\n",
    "saveModel = True\n",
    "filePath = \"Params.pkl\"\n",
    "\n",
    "if saveModel:\n",
    "    print(\"Saving model... \", end='', flush=True)\n",
    "    model_parameters = model.state_dict()\n",
    "    with open(filePath, \"wb\") as file:\n",
    "        pickle.dump(model_parameters, file)\n",
    "    print(\"Done!\")"
   ]
  }
 ],
 "metadata": {
  "kernelspec": {
   "display_name": "base",
   "language": "python",
   "name": "python3"
  },
  "language_info": {
   "codemirror_mode": {
    "name": "ipython",
    "version": 3
   },
   "file_extension": ".py",
   "mimetype": "text/x-python",
   "name": "python",
   "nbconvert_exporter": "python",
   "pygments_lexer": "ipython3",
   "version": "3.11.5"
  }
 },
 "nbformat": 4,
 "nbformat_minor": 5
}
